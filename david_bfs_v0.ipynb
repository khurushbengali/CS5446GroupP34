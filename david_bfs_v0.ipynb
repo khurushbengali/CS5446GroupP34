{
  "cells": [
    {
      "cell_type": "markdown",
      "metadata": {
        "id": "FeyeM7Ld0XVE"
      },
      "source": [
        "# CS5446 Project P34\n",
        "\n",
        "2x2 Representation:\n",
        "```\n",
        "       0  1\n",
        "       2  3\n",
        "16 17  8  9   4  5  20 21\n",
        "18 19  10 11  6  7  22 23\n",
        "       12 13\n",
        "       14 15\n",
        "```\n",
        "Face Colours:\n",
        "```\n",
        "    0\n",
        "  4 2 1 5\n",
        "    3\n",
        "```\n",
        "Move List:\n",
        "```\n",
        "U , U', R , R', F , F', D , D', L , L', B , B'\n",
        "```"
      ]
    },
    {
      "cell_type": "code",
      "execution_count": 2,
      "metadata": {
        "id": "UkEDu6Qc0EiJ"
      },
      "outputs": [],
      "source": [
        "from os import defpath\n",
        "from random import choice, randint\n",
        "from sys import argv\n",
        "from time import time\n",
        "import time"
      ]
    },
    {
      "cell_type": "code",
      "execution_count": 3,
      "metadata": {
        "id": "sMDQzVLq0hC_"
      },
      "outputs": [],
      "source": [
        "# Permutations for each move\n",
        "MOVES_LIST = {\n",
        "    \"U\":  [2,   0,   3,   1,  20,  21,   6,   7,   4,   5,  10,  11,  12,  13,  14,  15,   8,   9,  18,  19,  16,  17,  22,  23],\n",
        "    \"U'\": [1,   3,   0,   2,   8,   9,   6,   7,  16,  17,  10,  11,  12,  13,  14,  15,  20,  21,  18,  19,   4,   5,  22,  23],\n",
        "    \"R\":  [0,   9,   2,  11,   6,   4,   7,   5,   8,  13,  10,  15,  12,  22,  14,  20,  16,  17,  18,  19,   3,  21,   1,  23],\n",
        "    \"R'\": [0,  22,   2,  20,   5,   7,   4,   6,   8,   1,  10,   3,  12,   9,  14,  11,  16,  17,  18,  19,  15,  21,  13,  23],\n",
        "    \"F\":  [0,   1,  19,  17,   2,   5,   3,   7,  10,   8,  11,   9,   6,   4,  14,  15,  16,  12,  18,  13,  20,  21,  22,  23],\n",
        "    \"F'\": [0,   1,   4,   6,  13,   5,  12,   7,   9,  11,   8,  10,  17,  19,  14,  15,  16,   3,  18,   2,  20,  21,  22,  23],\n",
        "    \"D\":  [0,   1,   2,   3,   4,   5,  10,  11,   8,   9,  18,  19,  14,  12,  15,  13,  16,  17,  22,  23,  20,  21,   6,   7],\n",
        "    \"D'\": [0,   1,   2,   3,   4,   5,  22,  23,   8,   9,   6,   7,  13,  15,  12,  14,  16,  17,  10,  11,  20,  21,  18,  19],\n",
        "    \"L\":  [23,  1,  21,   3,   4,   5,   6,   7,   0,   9,   2,  11,   8,  13,  10,  15,  18,  16,  19,  17,  20,  14,  22,  12],\n",
        "    \"L'\": [8,   1,  10,   3,   4,   5,   6,   7,  12,   9,  14,  11,  23,  13,  21,  15,  17,  19,  16,  18,  20,   2,  22,   0],\n",
        "    \"B\":  [5,   7,   2,   3,   4 , 15,   6,  14,   8,   9,  10,  11,  12,  13,  16,  18,   1,  17,   0,  19,  22,  20,  23,  21],\n",
        "    \"B'\": [18, 16,   2,   3,   4,   0,   6,   1,   8,   9,  10,  11,  12,  13,   7,   5,  14,  17,  15,  19,  21,  23,  20,  22],\n",
        "\n",
        "    \"U2\": [3, 2, 1, 0, 16, 17, 6, 7, 20, 21, 10, 11, 12, 13, 14, 15, 4, 5, 18, 19, 8, 9, 22, 23],\n",
        "    \"R2\": [0, 13, 2, 15, 7, 6, 5, 4, 8, 22, 10, 20, 12, 1, 14, 3, 16, 17, 18, 19, 11, 21, 9, 23],\n",
        "    \"F2\": [0, 1, 13, 12, 19, 5, 17, 7, 11, 10, 9, 8, 3, 2, 14, 15, 16, 6, 18, 4, 20, 21, 22, 23],\n",
        "    \"D2\": [0, 1, 2, 3, 4, 5, 18, 19, 8, 9, 22, 23, 15, 14, 13, 12, 16, 17, 6, 7, 20, 21, 10, 11],\n",
        "    \"L2\": [12, 1, 14, 3, 4, 5, 6, 7, 23, 9, 21, 11, 0, 13, 2, 15, 19, 18, 17, 16, 20, 10, 22, 8],\n",
        "    \"B2\": [15, 14, 2, 3, 4, 18, 6, 16, 8, 9, 10, 11, 12, 13, 1, 0, 7, 17, 5, 19, 23, 22, 21, 20]\n",
        "}\n",
        "\n",
        "# Potential Values for distance in Heuristics Function and PDDL\n",
        "# Sticker Indices for each corner pieces\n",
        "CORNER_LIST = [(10, 12, 19), ( 6, 11, 13),\n",
        "               ( 2,  8, 17), ( 3,  4,  9),\n",
        "               (14, 18, 23), ( 7, 15, 22),\n",
        "               ( 0, 16, 21), ( 1,  5, 20)]\n",
        "\n",
        "# 3D Coordinates for each corner\n",
        "COORDINATES_LIST = [(0, 0, 0), (0, 1, 0), (1, 0, 0), (1, 1, 0),\n",
        "                    (0, 0, 1), (0, 1, 1), (1, 0, 1), (1, 1, 1)]"
      ]
    },
    {
      "cell_type": "code",
      "execution_count": null,
      "metadata": {
        "id": "1JfikyNs13BN"
      },
      "outputs": [],
      "source": [
        "class Cube2x2:\n",
        "\n",
        "    # Function: Initialize Cube\n",
        "    def __init__(self, cube = \"WWWW RRRR GGGG YYYY OOOO BBBB\", movesList=[], depth=0):\n",
        "        self.movesList = movesList\n",
        "        self.depth = depth\n",
        "        self.state = self.checkCube(cube)\n",
        "\n",
        "    # Function: Check Cube String\n",
        "    def checkCube(self, state):\n",
        "        state = state.replace(\" \", \"\")\n",
        "        state = state.upper()\n",
        "        if len(state) != 24:\n",
        "            raise ValueError(\"State must have only 24 Stickers.\")\n",
        "        colors = [\"W\", \"R\", \"G\", \"Y\", \"O\", \"B\"]\n",
        "        for color in colors:\n",
        "            if state.count(color) != 4:\n",
        "                raise ValueError(\"State must exactly have 4 Stickers of each Color.\")\n",
        "        return state\n",
        "\n",
        "    # Function: Print Cube\n",
        "    def print(self):\n",
        "        print(\"    {}{}              \\n\".format(self.state[0], self.state[1]))\n",
        "        print(\"    {}{}              \\n\".format(self.state[2], self.state[3]))\n",
        "        print(\" {}{} {}{} {}{} {}{}  \\n\".format(self.state[16], self.state[17], self.state[8], self.state[9], self.state[4], self.state[5], self.state[20], self.state[21]))\n",
        "        print(\" {}{} {}{} {}{} {}{}  \\n\".format(self.state[18], self.state[19], self.state[10], self.state[11], self.state[6], self.state[7], self.state[22], self.state[23]))\n",
        "        print(\"    {}{}              \\n\".format(self.state[12], self.state[13]))\n",
        "        print(\"    {}{}              \\n\".format(self.state[14], self.state[15]))\n",
        "\n",
        "    # Function: Return Current State\n",
        "    def returnCurrentState(self):\n",
        "        return self.state\n",
        "\n",
        "    # Function: Check if Goal State Reached\n",
        "    def checkIfGoalState(self):\n",
        "        for i in range(0, len(self.state), 4):\n",
        "            side = self.state[i:i+4]\n",
        "            if side.count(side[0]) != 4:\n",
        "                return False\n",
        "        return True\n",
        "\n",
        "    # Function: Execute a single given Move to the State\n",
        "    def executeMove(self, move):\n",
        "        # For Invalid Move\n",
        "        if move not in MOVES_LIST.keys():\n",
        "            raise ValueError(f\"Invalid Move: {move}\")\n",
        "\n",
        "        # Sticker Rotation for a Given Move\n",
        "        permutations = MOVES_LIST[move]\n",
        "        self.state = \"\".join([self.state[i] for i in permutations])\n",
        "        return self.state\n",
        "\n",
        "    # Function: Execute a set of given Moves to the State\n",
        "    def executeMoves(self, moves):\n",
        "        for move in moves.split():\n",
        "            print(move)\n",
        "            self.executeMove(move)\n",
        "\n",
        "    # Function: Shuffle Cube with N Moves\n",
        "    def shuffleCube(self, N):\n",
        "        # Choose n random moves from the list of moves and creates an algorithm to apply\n",
        "        moves = list(MOVES_LIST.keys())\n",
        "        shuffle = \" \".join([choice(moves) for i in range(N)])\n",
        "        self.executeMoves(shuffle)\n"
      ]
    },
    {
      "cell_type": "code",
      "execution_count": null,
      "metadata": {},
      "outputs": [],
      "source": [
        "def DFS(cube, depthLimit, solution):\n",
        "    print(f\"Depth: {cube.depth}, Depth Limit: {depthLimit}, Current State: {cube.returnCurrentState()}\")\n",
        "\n",
        "    if cube.checkIfGoalState():\n",
        "        print(\"Goal state reached!\")\n",
        "        return True\n",
        "\n",
        "    if cube.depth >= depthLimit:\n",
        "        print(\"Depth limit reached, backtracking...\")\n",
        "        return False\n",
        "\n",
        "    for move in cube.movesList:\n",
        "        print(f\"Trying move: {move}\")\n",
        "        cube.executeMove(move)\n",
        "        # Increment depth\n",
        "        cube.depth += 1\n",
        "\n",
        "        if DFS(cube, depthLimit, solution):\n",
        "            solution.append(move)\n",
        "            print(f\"Move added to solution: {move}\")\n",
        "            return True\n",
        "\n",
        "        cube.depth -= 1\n",
        "        inverseMove = InverseMove(move)\n",
        "        cube.executeMove(inverseMove)\n",
        "        print(cube.returnCurrentState())\n",
        "        print(f\"Backtracking from move: {move}\")\n",
        "\n",
        "    print(\"No solution found at this depth, backtracking...\")\n",
        "    return False\n",
        "\n",
        "def InverseMove(move):\n",
        "    if move.endswith(\"'\"):\n",
        "        return move[:-1]\n",
        "    elif move.endswith(\"2\"):\n",
        "        return move\n",
        "    else:\n",
        "        return move + \"'\"\n",
        "\n",
        "def solveRubiksCube(initialCubeState, movesList):\n",
        "    depthLimit = 0\n",
        "    solution = []\n",
        "\n",
        "    cube = Cube2x2(initialCubeState, movesList)\n",
        "    # cube = Cube2x2()\n",
        "\n",
        "    while not DFS(cube, depthLimit, solution):\n",
        "        depthLimit += 1\n",
        "\n",
        "    cube.print()\n",
        "    return solution\n"
      ]
    },
    {
      "cell_type": "code",
      "execution_count": null,
      "metadata": {},
      "outputs": [],
      "source": [
        "def average_solve_time(shuffle_steps, trials=10):\n",
        "    average_times = {}\n",
        "\n",
        "    for steps in shuffle_steps:\n",
        "        total_time = 0\n",
        "\n",
        "        for _ in range(trials):\n",
        "            cube = Cube2x2()\n",
        "            cube.shuffleCube(steps)\n",
        "            start_time = time.time()\n",
        "            solveRubiksCube(cube.returnCurrentState(), MOVES_LIST)\n",
        "            end_time = time.time()\n",
        "\n",
        "            total_time += end_time - start_time\n",
        "\n",
        "        average_times[steps] = total_time / trials\n",
        "\n",
        "    return average_times"
      ]
    },
    {
      "cell_type": "markdown",
      "metadata": {},
      "source": [
        "# sandbox: use this section to famiarise with cube initialisation, shuffling, checking current/goal states and the solver function"
      ]
    },
    {
      "cell_type": "code",
      "execution_count": null,
      "metadata": {},
      "outputs": [],
      "source": [
        "cube = Cube2x2()\n",
        "cube.returnCurrentState()"
      ]
    },
    {
      "cell_type": "code",
      "execution_count": null,
      "metadata": {},
      "outputs": [],
      "source": [
        "cube = Cube2x2()\n",
        "cube.executeMove(\"D\")\n",
        "cube.returnCurrentState()"
      ]
    },
    {
      "cell_type": "code",
      "execution_count": null,
      "metadata": {},
      "outputs": [],
      "source": [
        "cube.executeMove(\"U\")\n",
        "cube.returnCurrentState()"
      ]
    },
    {
      "cell_type": "code",
      "execution_count": null,
      "metadata": {},
      "outputs": [],
      "source": [
        "cube = Cube2x2()\n",
        "cube.executeMove(\"D\")\n",
        "cube.print()\n",
        "solveRubiksCube(cube.returnCurrentState(), MOVES_LIST)"
      ]
    },
    {
      "cell_type": "markdown",
      "metadata": {},
      "source": [
        "# test algo there - both 1 trial and multiple trials per shuffle #"
      ]
    },
    {
      "cell_type": "code",
      "execution_count": null,
      "metadata": {},
      "outputs": [],
      "source": [
        "# 1 trial run\n",
        "cube = Cube2x2()\n",
        "cube.shuffleCube(2)\n",
        "cube.print()\n",
        "solveRubiksCube(cube.returnCurrentState(), MOVES_LIST)"
      ]
    },
    {
      "cell_type": "code",
      "execution_count": null,
      "metadata": {},
      "outputs": [],
      "source": [
        "# getting average run time for each shuffle #\n",
        "shuffle_steps = list(range(1,3))  # list of shuffle step counts to test\n",
        "result = average_solve_time(shuffle_steps)\n",
        "print(result)"
      ]
    },
    {
      "cell_type": "markdown",
      "metadata": {},
      "source": [
        "# 1. try running without the print statement\n",
        "# 2. push to git\n",
        "# 3. inverse method - can we find a faster way to just revert to the state we want since we have likely already gone through it\n",
        "# 4. DFS - if converge, store actions + run time + depth\n",
        "\n",
        "\n",
        "\n",
        "\n",
        "1. problem intro\n",
        "2. bfs\n",
        "3. dfs\n",
        "4. ida*\n",
        "5. comparison\n",
        "6. next steps: e.g., how to futher ida*"
      ]
    },
    {
      "cell_type": "code",
      "execution_count": null,
      "metadata": {},
      "outputs": [],
      "source": [
        "\n",
        "1\n",
        "1-2\n",
        "1-2-3\n",
        "1-2-3-4"
      ]
    },
    {
      "cell_type": "markdown",
      "metadata": {},
      "source": []
    }
  ],
  "metadata": {
    "colab": {
      "provenance": []
    },
    "kernelspec": {
      "display_name": "Python 3",
      "name": "python3"
    },
    "language_info": {
      "codemirror_mode": {
        "name": "ipython",
        "version": 3
      },
      "file_extension": ".py",
      "mimetype": "text/x-python",
      "name": "python",
      "nbconvert_exporter": "python",
      "pygments_lexer": "ipython3",
      "version": "3.11.2"
    }
  },
  "nbformat": 4,
  "nbformat_minor": 0
}
